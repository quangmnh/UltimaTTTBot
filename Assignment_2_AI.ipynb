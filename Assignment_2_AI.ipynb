{
  "nbformat": 4,
  "nbformat_minor": 0,
  "metadata": {
    "colab": {
      "name": "Assignment_2_AI.ipynb",
      "provenance": [],
      "collapsed_sections": [],
      "include_colab_link": true
    },
    "kernelspec": {
      "name": "python3",
      "display_name": "Python 3"
    },
    "language_info": {
      "name": "python"
    }
  },
  "cells": [
    {
      "cell_type": "markdown",
      "metadata": {
        "id": "view-in-github",
        "colab_type": "text"
      },
      "source": [
        "<a href=\"https://colab.research.google.com/github/quangmnh/UltimaTTTBot/blob/main/Assignment_2_AI.ipynb\" target=\"_parent\"><img src=\"https://colab.research.google.com/assets/colab-badge.svg\" alt=\"Open In Colab\"/></a>"
      ]
    },
    {
      "cell_type": "code",
      "metadata": {
        "colab": {
          "base_uri": "https://localhost:8080/"
        },
        "id": "roUJfBcZv0wz",
        "outputId": "7295252b-cab5-4f69-e9ff-10ca528e6e7b"
      },
      "source": [
        "!pip install pygame"
      ],
      "execution_count": 1,
      "outputs": [
        {
          "output_type": "stream",
          "name": "stdout",
          "text": [
            "Collecting pygame\n",
            "  Downloading pygame-2.0.3-cp37-cp37m-manylinux_2_17_x86_64.manylinux2014_x86_64.whl (18.3 MB)\n",
            "\u001b[K     |████████████████████████████████| 18.3 MB 86 kB/s \n",
            "\u001b[?25hInstalling collected packages: pygame\n",
            "Successfully installed pygame-2.0.3\n"
          ]
        }
      ]
    },
    {
      "cell_type": "code",
      "metadata": {
        "id": "CeQaV8N78tx3",
        "colab": {
          "base_uri": "https://localhost:8080/"
        },
        "outputId": "76985d03-1c5b-499c-fa4c-c028a6ceb57c"
      },
      "source": [
        "import cv2\n",
        "from google.colab.patches import cv2_imshow\n",
        "from google.colab import output \n",
        "import pygame, sys, os\n",
        "from pygame.locals import K_TAB, QUIT, K_RIGHT\n",
        "from state import State, State_2\n",
        "import time\n",
        "from importlib import import_module"
      ],
      "execution_count": 2,
      "outputs": [
        {
          "output_type": "stream",
          "name": "stdout",
          "text": [
            "pygame 2.0.3 (SDL 2.0.16, Python 3.7.12)\n",
            "Hello from the pygame community. https://www.pygame.org/contribute.html\n"
          ]
        }
      ]
    },
    {
      "cell_type": "code",
      "metadata": {
        "id": "NYLt0ruriMZb"
      },
      "source": [
        "# set SDL to use the dummy NULL video driver, \n",
        "#   so it doesn't need a windowing system.\n",
        "os.environ[\"SDL_VIDEODRIVER\"] = \"dummy\""
      ],
      "execution_count": 3,
      "outputs": []
    },
    {
      "cell_type": "code",
      "metadata": {
        "id": "CO3N-ClwiWMq"
      },
      "source": [
        "def draw(state):\n",
        "    screen.fill('white')\n",
        "        \n",
        "    for x in range(3):\n",
        "        for y in range(3):\n",
        "            pygame.draw.rect(screen, color[\"white\"], (x*200, y*200, 200, 200))\n",
        "\n",
        "    if state.previous_move != None:\n",
        "        next_block = state.previous_move.x * 3 + state.previous_move.y\n",
        "        pygame.draw.rect(screen, color['blue'], \n",
        "              ((next_block%3)*200, (next_block//3)*200, 200, 200))\n",
        "\n",
        "        i = state.previous_move.index_local_board\n",
        "        pygame.draw.rect(screen, color['orange'],(\n",
        "                         (i%3)*200 + state.previous_move.y*50 + 25,\n",
        "                         (i//3)*200 + state.previous_move.x*50 + 25,\n",
        "                         50,50))\n",
        "    \n",
        "    for k in range(9):\n",
        "        value = state.global_cells[k]\n",
        "        if value != 0:\n",
        "            picture = large_image[value]\n",
        "            picture = pygame.transform.scale(picture, (100, 100))\n",
        "            screen.blit(picture,((k%3)*200 + 50,(k//3)*200 + 50))            \n",
        "    \n",
        "    for x in range(3):\n",
        "        for y in range(3):\n",
        "            for i in [1,2]:\n",
        "                pygame.draw.line(screen, color[\"black\"], \n",
        "                                 (x*200 + i*50 + 25, y*200 + 25), \n",
        "                                 (x*200 + i*50 + 25, y*200 + 175), 2)\n",
        "                pygame.draw.line(screen, color[\"black\"], \n",
        "                                 (x*200 + 25, y*200 + i*50 + 25), \n",
        "                                 (x*200 + 175, y*200 + i*50 + 25), 2)\n",
        "    \n",
        "    for i in range(9):\n",
        "        local_board = state.blocks[i]\n",
        "        for x in range(3):\n",
        "            for y in range(3):\n",
        "                value = local_board[x, y]\n",
        "                if value != 0:\n",
        "                    screen.blit(small_image[value],\n",
        "                                ((i%3)*200 + y*50 + 35,\n",
        "                                (i//3)*200 + x*50 + 35))\n",
        "    \n",
        "    for i in [1, 2]:\n",
        "        pygame.draw.line(screen, color[\"black\"], (i*200, 0), (i*200, 600), 3)\n",
        "        pygame.draw.line(screen, color[\"black\"], (0, i*200), (600, i*200), 3)\n",
        "\n",
        "    pygame.display.flip()\n",
        "    view = pygame.surfarray.array3d(screen)\n",
        "\n",
        "    # convert from (width, height, channel) to (height, width, channel)\n",
        "    view = view.transpose([1, 0, 2])\n",
        "\n",
        "    # convert from rgb to bgr\n",
        "    img_bgr = cv2.cvtColor(view, cv2.COLOR_RGB2BGR)\n",
        "\n",
        "    # clear cell\n",
        "    output.clear()\n",
        "\n",
        "    # display image\n",
        "    cv2_imshow(img_bgr)\n"
      ],
      "execution_count": 4,
      "outputs": []
    },
    {
      "cell_type": "code",
      "metadata": {
        "id": "FR8meqIsBV1J",
        "outputId": "26506589-b73f-49a0-d672-3f0b051878a7",
        "colab": {
          "base_uri": "https://localhost:8080/",
          "height": 231
        }
      },
      "source": [
        "color = {\"black\": pygame.Color(0, 0, 0),\n",
        "         \"white\": pygame.Color(255, 255, 255),\n",
        "         'blue': pygame.Color(50, 255, 255),\n",
        "         'orange': pygame.Color(255, 120, 0)\n",
        "        }\n",
        "small_image = {1: pygame.image.load('small_x.png'), \n",
        "               -1: pygame.image.load('small_o.png')}\n",
        "large_image = {1: pygame.image.load('large_x.png'), \n",
        "               -1: pygame.image.load('large_o.png')}\n",
        "\n",
        "pygame.init()\n",
        "\n",
        "screen = pygame.display.set_mode((600, 600))\n",
        "pygame.display.set_caption('Ultimate Tic-Tac-Toe')\n",
        "\n",
        "\n",
        "def play(player_X, player_O, play_auto = True, delay_to_draw = 0, rule = 1):\n",
        "    player_1 = import_module(player_X)\n",
        "    player_2 = import_module(player_O)\n",
        "    if rule == 1:\n",
        "        state = State()\n",
        "    else:\n",
        "        state = State_2()\n",
        "    turn = 0\n",
        "    remain_time_X = 120\n",
        "    remain_time_O = 120\n",
        "    is_game_done = False\n",
        "    \n",
        "    while True:\n",
        "        draw(state)\n",
        "\n",
        "        if state.game_over:\n",
        "            break\n",
        "\n",
        "        valid_moves = state.get_valid_moves\n",
        "        if rule == 1:\n",
        "            temp_state = State(state)\n",
        "        else:\n",
        "            temp_state = State_2(state)\n",
        "        start_t = time.time()\n",
        "        if state.player_to_move == 1:\n",
        "            new_move = player_1.select_move(temp_state, remain_time_X)\n",
        "            elapsed_time = time.time() - start_t\n",
        "            remain_time_X -= elapsed_time\n",
        "        else:\n",
        "            new_move = player_2.select_move(temp_state, remain_time_O)\n",
        "            elapsed_time = time.time() - start_t\n",
        "            remain_time_O -= elapsed_time\n",
        "\n",
        "        if elapsed_time > 10 or not new_move or \\\n",
        "                (remain_time_O < -0.1) or (remain_time_X < -0.1):\n",
        "            break\n",
        "        \n",
        "        flag = False\n",
        "        for item in valid_moves:\n",
        "            if new_move.index_local_board == item.index_local_board and \\\n",
        "               new_move.x == item.x and new_move.y == item.y and \\\n",
        "               new_move.value == item.value:\n",
        "                flag = True\n",
        "                break\n",
        "        if not flag:\n",
        "            break\n",
        "\n",
        "        if elapsed_time < delay_to_draw:\n",
        "            # delay drawing              \n",
        "            time.sleep(delay_to_draw)\n",
        "\n",
        "        state.act_move(new_move)\n",
        "        if not play_auto:\n",
        "            print('press enter to continue')\n",
        "            input()\n",
        "\n",
        "        turn += 1"
      ],
      "execution_count": 5,
      "outputs": [
        {
          "output_type": "error",
          "ename": "FileNotFoundError",
          "evalue": "ignored",
          "traceback": [
            "\u001b[0;31m---------------------------------------------------------------------------\u001b[0m",
            "\u001b[0;31mFileNotFoundError\u001b[0m                         Traceback (most recent call last)",
            "\u001b[0;32m<ipython-input-5-110b8fb62477>\u001b[0m in \u001b[0;36m<module>\u001b[0;34m()\u001b[0m\n\u001b[1;32m      4\u001b[0m          \u001b[0;34m'orange'\u001b[0m\u001b[0;34m:\u001b[0m \u001b[0mpygame\u001b[0m\u001b[0;34m.\u001b[0m\u001b[0mColor\u001b[0m\u001b[0;34m(\u001b[0m\u001b[0;36m255\u001b[0m\u001b[0;34m,\u001b[0m \u001b[0;36m120\u001b[0m\u001b[0;34m,\u001b[0m \u001b[0;36m0\u001b[0m\u001b[0;34m)\u001b[0m\u001b[0;34m\u001b[0m\u001b[0;34m\u001b[0m\u001b[0m\n\u001b[1;32m      5\u001b[0m         }\n\u001b[0;32m----> 6\u001b[0;31m small_image = {1: pygame.image.load('images/small_x.png'), \n\u001b[0m\u001b[1;32m      7\u001b[0m                -1: pygame.image.load('images/small_o.png')}\n\u001b[1;32m      8\u001b[0m large_image = {1: pygame.image.load('images/large_x.png'), \n",
            "\u001b[0;31mFileNotFoundError\u001b[0m: No file 'images/small_x.png' found in working directory '/content'."
          ]
        }
      ]
    },
    {
      "cell_type": "code",
      "metadata": {
        "id": "cDAeZdNti5U5"
      },
      "source": [
        "play('_MSSV', 'random_agent')\n",
        "play('random_agent', '_MSSV')\n",
        "play('_MSSV', 'random_agent')\n"
      ],
      "execution_count": null,
      "outputs": []
    }
  ]
}